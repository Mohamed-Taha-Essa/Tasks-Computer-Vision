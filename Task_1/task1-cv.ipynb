{
 "cells": [
  {
   "cell_type": "code",
   "execution_count": 1,
   "metadata": {},
   "outputs": [],
   "source": [
    "import cv2\n",
    "import datetime\n",
    "import numpy as np "
   ]
  },
  {
   "cell_type": "code",
   "execution_count": 44,
   "metadata": {},
   "outputs": [],
   "source": [
    "image = cv2.imread(\"../../media/aman.jpg\")\n",
    "image =cv2.resize(image ,(640,720))\n",
    "row ,col ,_ =image.shape\n",
    "def click_event(event ,x ,y ,flags ,param):\n",
    "    if event == cv2.EVENT_LBUTTONUP:\n",
    "        cv2.rectangle(image ,(x,y) ,(x+40,y+60),(150,50,200),3)\n",
    "        cv2.imshow(\"img\" ,image)\n",
    "\n",
    "    if event == cv2.EVENT_RBUTTONUP:\n",
    "        cv2.circle(image ,(x,y) ,25,(150,50,200),3)\n",
    "        cv2.imshow(\"img\" ,image)\n",
    "        \n",
    "    if event == cv2.EVENT_LBUTTONUP:\n",
    "        pts1 = np.float32([[x,y],[100,100],[200,400]])\n",
    "        pts2 = np.float32([[50,50],[100,100],[200,400]])\n",
    "        mat =cv2.getAffineTransform(pts1 ,pts2)\n",
    "        res =cv2.warpAffine(image ,mat ,(col ,row))\n",
    "        cv2.imshow(\"res\" ,res)\n",
    "\n",
    "cv2.imshow(\"img\" ,image)\n",
    "\n",
    "while(True):\n",
    "    time_now=datetime.datetime.now()\n",
    "    time_now =time_now.strftime(\"%Y-%m-%d %H:%M:%S\")\n",
    "    font=cv2.FONT_HERSHEY_SIMPLEX\n",
    "    cv2.putText(image ,time_now ,(1,50) ,font,1,(0,100,250),2)\n",
    "    \n",
    "    \n",
    "\n",
    "    key =cv2.waitKey(1)\n",
    "    if key ==ord('g'):\n",
    "        gray_image =cv2.cvtColor(image ,cv2.COLOR_BGR2GRAY)\n",
    "        cv2.imshow(\"img\" ,gray_image)\n",
    "\n",
    "    elif key == ord('r'):\n",
    "        cv2.imshow(\"img\" ,image)\n",
    "    \n",
    "    elif key == ord('s'):\n",
    "        cv2.imwrite(\"img.png\" ,image)\n",
    "        \n",
    "    elif key == ord('c'):\n",
    "        roi =image[80:330 ,300:500]\n",
    "        cv2.imshow(\"img\" ,roi)\n",
    "        \n",
    "    elif key == ord('z'):\n",
    "        cv2.imshow(\"img\" ,image)\n",
    "      \n",
    "    elif key == ord('h'):\n",
    "        print(\" click on 'g' to convert image to gray\")\n",
    "        print(\" click on 'r' to show original image \")\n",
    "        print(\" click on 's' to save image \")\n",
    "        print(\" click on 'c' to crop face from image\")\n",
    "        print(\" click on 'z' to back to the original image\")\n",
    "        print(\" click on 'h' to show help\") \n",
    "        \n",
    "    elif key == ord('b'):\n",
    "        image =  cv2.getGaussianKernel()\n",
    "    cv2.setMouseCallback(\"img\" ,click_event)\n",
    "\n",
    "    if key ==ord('q'):\n",
    "        break\n",
    "    \n",
    "    \n",
    "cv2.destroyAllWindows()\n"
   ]
  },
  {
   "cell_type": "code",
   "execution_count": 3,
   "metadata": {},
   "outputs": [],
   "source": [
    "image = cv2.imread(\"../../media/aman.jpg\")\n",
    "image =cv2.resize(image ,(640,720))\n",
    "\n",
    "img =image+100\n",
    "cv2.imshow(\"image\" ,image)\n",
    "cv2.imshow(\"img\" ,img)\n",
    "cv2.waitKey(0)\n",
    "cv2.destroyAllWindows()\n"
   ]
  },
  {
   "cell_type": "code",
   "execution_count": null,
   "metadata": {},
   "outputs": [],
   "source": []
  }
 ],
 "metadata": {
  "kernelspec": {
   "display_name": "Python 3",
   "language": "python",
   "name": "python3"
  },
  "language_info": {
   "codemirror_mode": {
    "name": "ipython",
    "version": 3
   },
   "file_extension": ".py",
   "mimetype": "text/x-python",
   "name": "python",
   "nbconvert_exporter": "python",
   "pygments_lexer": "ipython3",
   "version": "3.8.5"
  }
 },
 "nbformat": 4,
 "nbformat_minor": 4
}
