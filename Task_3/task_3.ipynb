{
 "cells": [
  {
   "cell_type": "code",
   "execution_count": 1,
   "metadata": {},
   "outputs": [],
   "source": [
    "import cv2 \n",
    "import numpy as np "
   ]
  },
  {
   "cell_type": "code",
   "execution_count": 63,
   "metadata": {},
   "outputs": [],
   "source": [
    "import numpy as np\n",
    "import cv2\n",
    "\n",
    "\n",
    "def sp_noise(image, prob):\n",
    "    '''\n",
    "    Add salt and pepper noise to image\n",
    "    prob: Probability of the noise\n",
    "    '''\n",
    "    output = image.copy()\n",
    "    if len(image.shape) == 2:\n",
    "        black = 0\n",
    "        white = 255            \n",
    "    else:\n",
    "        colorspace = image.shape[2]\n",
    "        if colorspace == 3:  # RGB\n",
    "            black = np.array([0, 0, 0], dtype='uint8')\n",
    "            white = np.array([255, 255, 255], dtype='uint8')\n",
    "        else:  # RGBA\n",
    "            black = np.array([0, 0, 0, 255], dtype='uint8')\n",
    "            white = np.array([255, 255, 255, 255], dtype='uint8')\n",
    "    probs = np.random.random(output.shape[:2])\n",
    "    output[probs < (prob / 2)] = black\n",
    "    output[probs > 1 - (prob / 2)] = white\n",
    "    return output\n"
   ]
  },
  {
   "cell_type": "code",
   "execution_count": 68,
   "metadata": {},
   "outputs": [],
   "source": [
    "img =cv2.imread(\"man.jpg\")\n",
    "#add salt and paper noise to the image\n",
    "sp_image =sp_noise(img, .08)\n",
    "\n",
    "blur =cv2.blur(img ,(5,5))\n",
    "gblur =cv2.GaussianBlur(img ,(3,3),0)\n",
    "#remove salt and peper noise from the image\n",
    "median =cv2.medianBlur(sp_image ,3)\n",
    "bilfilter=cv2.bilateralFilter(img ,5,250 ,9)\n",
    "\n",
    "cv2.imshow(\"img\" ,img)\n",
    "#cv2.imshow(\"blur\" ,blur)\n",
    "#cv2.imshow(\"gblur\" ,gblur)\n",
    "#cv2.imshow(\"bilfilter\" ,bilfilter)\n",
    "cv2.imshow(\"sp_image\" ,sp_image)\n",
    "cv2.imshow(\"median\" ,median)\n",
    "\n",
    "\n",
    "cv2.waitKey(0)\n",
    "cv2.destroyAllWindows()"
   ]
  },
  {
   "cell_type": "code",
   "execution_count": null,
   "metadata": {},
   "outputs": [],
   "source": []
  }
 ],
 "metadata": {
  "kernelspec": {
   "display_name": "Python 3",
   "language": "python",
   "name": "python3"
  },
  "language_info": {
   "codemirror_mode": {
    "name": "ipython",
    "version": 3
   },
   "file_extension": ".py",
   "mimetype": "text/x-python",
   "name": "python",
   "nbconvert_exporter": "python",
   "pygments_lexer": "ipython3",
   "version": "3.8.5"
  }
 },
 "nbformat": 4,
 "nbformat_minor": 4
}
